{
 "cells": [
  {
   "cell_type": "markdown",
   "metadata": {},
   "source": [
    "# Colisões entre partículas\n",
    "\n",
    "Terceira lei de Newton, que diz que a força de ação é igual em módulo e em sentido oposto à força de reação. Um par de forças de ação e reação é produzido pela interação entre dois objetos e pode ocorrer tanto em forças de longa distância (como a força gravitacional) como em forças de contato produzidas em uma colisão. Desta forma, seja A e B dois corpos em interação, temos que ${\\bf F}_{A|B} = -{\\bf F}_{B|A}$, onde usamos a notação $\\bf{F}_{X|Y}$ para denotar a força em X produzida pela interação com Y.\n",
    "\n",
    "Este tipo de interção implica em conservação do momento angular linear total, definido como ${\\bf p} = m {\\bf v}$. Basta calcular\n",
    "\n",
    "$$\\frac{d}{dt}{\\bf P} \\equiv \\frac{d}{dt}\\left(m_A {\\bf v}_A + m_B {\\bf v}_B\\right) = m_A {\\bf a}_A + m_B{\\bf a}_B$$\n",
    "\n",
    "Substituimos $F = ma$, de acordo com a segunda Lei e lembrando que a força em A, $\\bf{F}_A = \\bf{F}_{A|B}$ é devido à interação com B e vice-versa:\n",
    "\n",
    "$$\\frac{d}{dt}{\\bf P} = {\\bf F}_{A|B} + {\\bf F}_{B|A} = 0$$\n",
    "\n",
    "O fato da derivada do momento total se anular (em outras palavras, momento se mantêm constante) é a base do estudo de colisões. Vamos derivar algumas equações importantes e realizar simulações com o Pymunk para testar estas teorias.\n",
    "\n",
    "Este notebook mistura cálculos manuais com alguns cálculos feitos utilizando o pacote algébrico sympy."
   ]
  },
  {
   "cell_type": "code",
   "execution_count": 83,
   "metadata": {},
   "outputs": [
    {
     "data": {
      "text/latex": [
       "$\\displaystyle m_{A} u = m_{A} v_{A} + m_{B} v_{B}$"
      ],
      "text/plain": [
       "Eq(m_A*u, m_A*v_A + m_B*v_B)"
      ]
     },
     "execution_count": 83,
     "metadata": {},
     "output_type": "execute_result"
    }
   ],
   "source": [
    "import sympy\n",
    "from sympy import *\n",
    "\n",
    "# Criamos variáveis algébricas\n",
    "mA, mB, u, vA, vB = sympy.symbols('m_A,m_B,u,v_A,v_B')\n",
    "\n",
    "# Estas variáveis são objetos especiais que constroem expresões matemáticas\n",
    "\n",
    "Pi = mA * u             # momento total com partícula A como projétil de velocidade u e B como alvo parado\n",
    "Pf = mA * vA + mB * vB  # momento total após a colisão\n",
    "eq1 = Eq(Pi, Pf)        # equação que expressa conservação do momento \n",
    "eq1"
   ]
  },
  {
   "cell_type": "markdown",
   "metadata": {},
   "source": [
    "## Coeficiente de restituição\n",
    "\n",
    "Note que apenas com a conservação de momeneto, não é possível resolver as duas incógnitas, $\\bf{v}_A$ e $\\bf{v}_B$, a partir de apenas uma equação. Precisamos de uma condição adicional para caracterizar a colisão e ela é dada pela equação da elasticidade. Nela, postulamos que a velocidade relativa de entrada é proporcional à velocidade relativa de saída, com uma constante de propocionalidade dada. O sinal da velocidade relativa se inverte após a colisão já que saímos de uma condição de aproximação para a de afastamento, assim, definimos\n",
    "\n",
    "$${\\bf v}^{rel}_{f} = -e {\\bf v}^{rel}_{0},$$\n",
    "\n",
    "a constante de proporcionalidade $e\\in[0,1]$ é conhecida como coeficiente de restituição. No valor extremo $e=1$ temos a reflexão especular e quando $e=0$, temos uma colisão totalmente inelástica em que os dois corpos permanecem em contato.\n",
    "\n",
    "No caso da colisão considerada anteriormente, ${\\bf v}^{rel}_{0} = u$ e ${\\bf v}^{rel}_{f} = {\\bf v}_A - {\\bf v}_B$."
   ]
  },
  {
   "cell_type": "code",
   "execution_count": 84,
   "metadata": {},
   "outputs": [
    {
     "data": {
      "text/latex": [
       "$\\displaystyle v_{A} - v_{B} = - e u$"
      ],
      "text/plain": [
       "Eq(v_A - v_B, -e*u)"
      ]
     },
     "execution_count": 84,
     "metadata": {},
     "output_type": "execute_result"
    }
   ],
   "source": [
    "e = sympy.symbols('e')\n",
    "\n",
    "eq2 = Eq(vA - vB, - e * u)\n",
    "eq2"
   ]
  },
  {
   "cell_type": "markdown",
   "metadata": {},
   "source": [
    "Agora temos 2 equações e duas incógnitas e podemos facilmente resolver o sistema. Primeiro, isolamos $\\bf{v}_A$ em uma das equações. O passo seguinte é substituir na outra para obter $\\bf{v}_B$"
   ]
  },
  {
   "cell_type": "code",
   "execution_count": 85,
   "metadata": {},
   "outputs": [
    {
     "data": {
      "text/latex": [
       "$\\displaystyle v_{A} = - e u + v_{B}$"
      ],
      "text/plain": [
       "Eq(v_A, -e*u + v_B)"
      ]
     },
     "execution_count": 85,
     "metadata": {},
     "output_type": "execute_result"
    }
   ],
   "source": [
    "vA_ans = solve(eq2, vA)[0]\n",
    "Eq(vA, vA_ans)"
   ]
  },
  {
   "cell_type": "code",
   "execution_count": 86,
   "metadata": {},
   "outputs": [
    {
     "data": {
      "text/latex": [
       "$\\displaystyle m_{A} u = m_{A} \\left(- e u + v_{B}\\right) + m_{B} v_{B}$"
      ],
      "text/plain": [
       "Eq(m_A*u, m_A*(-e*u + v_B) + m_B*v_B)"
      ]
     },
     "execution_count": 86,
     "metadata": {},
     "output_type": "execute_result"
    }
   ],
   "source": [
    "eq3 = eq1.subs(vA, vA_ans)\n",
    "eq3"
   ]
  },
  {
   "cell_type": "code",
   "execution_count": 88,
   "metadata": {},
   "outputs": [
    {
     "data": {
      "text/latex": [
       "$\\displaystyle v_{A} = \\frac{u \\left(- e m_{B} + m_{A}\\right)}{m_{A} + m_{B}}$"
      ],
      "text/plain": [
       "Eq(v_A, u*(-e*m_B + m_A)/(m_A + m_B))"
      ]
     },
     "metadata": {},
     "output_type": "display_data"
    },
    {
     "data": {
      "text/latex": [
       "$\\displaystyle v_{B} = \\frac{m_{A} u \\left(e + 1\\right)}{m_{A} + m_{B}}$"
      ],
      "text/plain": [
       "Eq(v_B, m_A*u*(e + 1)/(m_A + m_B))"
      ]
     },
     "metadata": {},
     "output_type": "display_data"
    }
   ],
   "source": [
    "vB_ans = solve(eq3, vB)[0]\n",
    "vA_ans = solve(eq1.subs(vB, vB_ans), vA)[0]\n",
    "\n",
    "display(Eq(vA, vA_ans))\n",
    "display(Eq(vB, vB_ans))"
   ]
  },
  {
   "cell_type": "markdown",
   "metadata": {},
   "source": [
    "## Casos especiais\n",
    "\n",
    "Podemos agora verificar vários casos especiais:\n",
    "\n",
    "* Colisões totalmente elásticas\n",
    "    - massas iguais\n",
    "    - A mais pesado que B\n",
    "    - B mais pesado que A\n",
    "* Colisões totalmente inelásticas\n",
    "    - massa de B infinitamente maior que A\n",
    "    - massa de A infinitamente maior que B"
   ]
  },
  {
   "cell_type": "code",
   "execution_count": 93,
   "metadata": {},
   "outputs": [
    {
     "data": {
      "text/latex": [
       "$\\displaystyle v_{A} = 0$"
      ],
      "text/plain": [
       "Eq(v_A, 0)"
      ]
     },
     "metadata": {},
     "output_type": "display_data"
    },
    {
     "data": {
      "text/latex": [
       "$\\displaystyle v_{B} = u$"
      ],
      "text/plain": [
       "Eq(v_B, u)"
      ]
     },
     "metadata": {},
     "output_type": "display_data"
    }
   ],
   "source": [
    "# e = 1, massas iguais\n",
    "m = sympy.symbols('m')\n",
    "subs = [(mA, m), (mB, m), (e, 1)]\n",
    "\n",
    "display(Eq(vA, vA_ans.subs(subs)))\n",
    "display(Eq(vB, vB_ans.subs(subs)))"
   ]
  },
  {
   "cell_type": "code",
   "execution_count": 94,
   "metadata": {},
   "outputs": [
    {
     "data": {
      "text/latex": [
       "$\\displaystyle r = \\frac{m_{B}}{m_{A}}$"
      ],
      "text/plain": [
       "Eq(r, m_B/m_A)"
      ]
     },
     "metadata": {},
     "output_type": "display_data"
    },
    {
     "data": {
      "text/latex": [
       "$\\displaystyle v_{A} = \\frac{u \\left(1 - r\\right)}{r + 1}$"
      ],
      "text/plain": [
       "Eq(v_A, u*(1 - r)/(r + 1))"
      ]
     },
     "metadata": {},
     "output_type": "display_data"
    },
    {
     "data": {
      "text/latex": [
       "$\\displaystyle v_{B} = \\frac{2 u}{r + 1}$"
      ],
      "text/plain": [
       "Eq(v_B, 2*u/(r + 1))"
      ]
     },
     "metadata": {},
     "output_type": "display_data"
    }
   ],
   "source": [
    "# e = 1, massas diferentes\n",
    "m, r = sympy.symbols('m,r')\n",
    "subs = [(mB, r * mA), (e, 1)]\n",
    "\n",
    "display(Eq(r, mB / mA))\n",
    "display(Eq(vA, vA_ans.subs(subs).collect(mA)))\n",
    "display(Eq(vB, vB_ans.subs(subs).collect(mA)))"
   ]
  },
  {
   "cell_type": "code",
   "execution_count": 95,
   "metadata": {},
   "outputs": [
    {
     "data": {
      "text/latex": [
       "$\\displaystyle v_{B} = \\frac{u}{r + 1}$"
      ],
      "text/plain": [
       "Eq(v_B, u/(r + 1))"
      ]
     },
     "execution_count": 95,
     "metadata": {},
     "output_type": "execute_result"
    }
   ],
   "source": [
    "# e = 0\n",
    "\n",
    "r = sympy.symbols('r')\n",
    "v_ans_r = v_ans.subs(mB, r * mA).collect(mA)\n",
    "Eq(vB, v_ans_r)"
   ]
  },
  {
   "cell_type": "code",
   "execution_count": 96,
   "metadata": {},
   "outputs": [
    {
     "data": {
      "text/latex": [
       "$\\displaystyle 0$"
      ],
      "text/plain": [
       "0"
      ]
     },
     "execution_count": 96,
     "metadata": {},
     "output_type": "execute_result"
    }
   ],
   "source": [
    "# massa de B infinitamente maior que A (r -> oo)\n",
    "\n",
    "v_ans_r.limit(r, oo)"
   ]
  },
  {
   "cell_type": "code",
   "execution_count": 97,
   "metadata": {},
   "outputs": [
    {
     "data": {
      "text/latex": [
       "$\\displaystyle u$"
      ],
      "text/plain": [
       "u"
      ]
     },
     "execution_count": 97,
     "metadata": {},
     "output_type": "execute_result"
    }
   ],
   "source": [
    "# massa de A infinitamente maior que B (r -> 0)\n",
    "\n",
    "v_ans_r.limit(r, 0)"
   ]
  },
  {
   "cell_type": "code",
   "execution_count": null,
   "metadata": {},
   "outputs": [],
   "source": []
  }
 ],
 "metadata": {
  "kernelspec": {
   "display_name": "Python 3",
   "language": "python",
   "name": "python3"
  },
  "language_info": {
   "codemirror_mode": {
    "name": "ipython",
    "version": 3
   },
   "file_extension": ".py",
   "mimetype": "text/x-python",
   "name": "python",
   "nbconvert_exporter": "python",
   "pygments_lexer": "ipython3",
   "version": "3.9.1"
  }
 },
 "nbformat": 4,
 "nbformat_minor": 4
}
